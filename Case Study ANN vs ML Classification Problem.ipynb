{
 "cells": [
  {
   "cell_type": "markdown",
   "id": "e51b1dad",
   "metadata": {},
   "source": [
    "# Problem Statement:\n",
    "    \n",
    "This dataset has the features regarding the potability of the water whether it is safe to consume or not."
   ]
  },
  {
   "cell_type": "markdown",
   "id": "24a2bc13",
   "metadata": {},
   "source": [
    "## Feature Description:"
   ]
  },
  {
   "cell_type": "markdown",
   "id": "1d7afbbd",
   "metadata": {},
   "source": [
    "1. pH value: parameter in evaluating the acid–base balance of water.\n",
    "2. Hardness: the capacity of water to precipitate soap caused by Calcium and Magnesium.\n",
    "3. Solids (Total dissolved solids - TDS): ability to dissolve inorganic and organic minerals or salts.\n",
    "4. Chloramines: major disinfectants used in public water systems.\n",
    "5. Sulfate: Concentration of Sulphate in water.\n",
    "6. Conductivity: Electrical conductivity (EC) actually measures the ionic process of a solution that enables it to transmit current.\n",
    "7. Organic_carbon: measure of the total amount of carbon in organic compounds in pure water\n",
    "8. Trihalomethanes: concentration of THMs are chemicals which may be found in water treated with chlorine.\n",
    "9. Turbidity: It is a measure of light emitting properties of water.\n",
    "10. Potability:Indicates if water is safe for human consumption where 1 means Potable and 0 means Not potable."
   ]
  },
  {
   "cell_type": "code",
   "execution_count": null,
   "id": "f371ed6f",
   "metadata": {},
   "outputs": [],
   "source": [
    "# Importing the basic libraries."
   ]
  },
  {
   "cell_type": "code",
   "execution_count": 1,
   "id": "eae82d04",
   "metadata": {},
   "outputs": [],
   "source": [
    "import pandas as pd\n",
    "import numpy as np\n",
    "import matplotlib.pyplot as plt\n",
    "import seaborn as sns"
   ]
  },
  {
   "cell_type": "code",
   "execution_count": 3,
   "id": "77f7baae",
   "metadata": {},
   "outputs": [
    {
     "data": {
      "text/html": [
       "<div>\n",
       "<style scoped>\n",
       "    .dataframe tbody tr th:only-of-type {\n",
       "        vertical-align: middle;\n",
       "    }\n",
       "\n",
       "    .dataframe tbody tr th {\n",
       "        vertical-align: top;\n",
       "    }\n",
       "\n",
       "    .dataframe thead th {\n",
       "        text-align: right;\n",
       "    }\n",
       "</style>\n",
       "<table border=\"1\" class=\"dataframe\">\n",
       "  <thead>\n",
       "    <tr style=\"text-align: right;\">\n",
       "      <th></th>\n",
       "      <th>ph</th>\n",
       "      <th>Hardness</th>\n",
       "      <th>Solids</th>\n",
       "      <th>Chloramines</th>\n",
       "      <th>Sulfate</th>\n",
       "      <th>Conductivity</th>\n",
       "      <th>Organic_carbon</th>\n",
       "      <th>Trihalomethanes</th>\n",
       "      <th>Turbidity</th>\n",
       "      <th>Potability</th>\n",
       "    </tr>\n",
       "  </thead>\n",
       "  <tbody>\n",
       "    <tr>\n",
       "      <th>0</th>\n",
       "      <td>NaN</td>\n",
       "      <td>204.890455</td>\n",
       "      <td>20791.318981</td>\n",
       "      <td>7.300212</td>\n",
       "      <td>368.516441</td>\n",
       "      <td>564.308654</td>\n",
       "      <td>10.379783</td>\n",
       "      <td>86.990970</td>\n",
       "      <td>2.963135</td>\n",
       "      <td>0</td>\n",
       "    </tr>\n",
       "    <tr>\n",
       "      <th>1</th>\n",
       "      <td>3.716080</td>\n",
       "      <td>129.422921</td>\n",
       "      <td>18630.057858</td>\n",
       "      <td>6.635246</td>\n",
       "      <td>NaN</td>\n",
       "      <td>592.885359</td>\n",
       "      <td>15.180013</td>\n",
       "      <td>56.329076</td>\n",
       "      <td>4.500656</td>\n",
       "      <td>0</td>\n",
       "    </tr>\n",
       "    <tr>\n",
       "      <th>2</th>\n",
       "      <td>8.099124</td>\n",
       "      <td>224.236259</td>\n",
       "      <td>19909.541732</td>\n",
       "      <td>9.275884</td>\n",
       "      <td>NaN</td>\n",
       "      <td>418.606213</td>\n",
       "      <td>16.868637</td>\n",
       "      <td>66.420093</td>\n",
       "      <td>3.055934</td>\n",
       "      <td>0</td>\n",
       "    </tr>\n",
       "    <tr>\n",
       "      <th>3</th>\n",
       "      <td>8.316766</td>\n",
       "      <td>214.373394</td>\n",
       "      <td>22018.417441</td>\n",
       "      <td>8.059332</td>\n",
       "      <td>356.886136</td>\n",
       "      <td>363.266516</td>\n",
       "      <td>18.436524</td>\n",
       "      <td>100.341674</td>\n",
       "      <td>4.628771</td>\n",
       "      <td>0</td>\n",
       "    </tr>\n",
       "    <tr>\n",
       "      <th>4</th>\n",
       "      <td>9.092223</td>\n",
       "      <td>181.101509</td>\n",
       "      <td>17978.986339</td>\n",
       "      <td>6.546600</td>\n",
       "      <td>310.135738</td>\n",
       "      <td>398.410813</td>\n",
       "      <td>11.558279</td>\n",
       "      <td>31.997993</td>\n",
       "      <td>4.075075</td>\n",
       "      <td>0</td>\n",
       "    </tr>\n",
       "  </tbody>\n",
       "</table>\n",
       "</div>"
      ],
      "text/plain": [
       "         ph    Hardness        Solids  Chloramines     Sulfate  Conductivity  \\\n",
       "0       NaN  204.890455  20791.318981     7.300212  368.516441    564.308654   \n",
       "1  3.716080  129.422921  18630.057858     6.635246         NaN    592.885359   \n",
       "2  8.099124  224.236259  19909.541732     9.275884         NaN    418.606213   \n",
       "3  8.316766  214.373394  22018.417441     8.059332  356.886136    363.266516   \n",
       "4  9.092223  181.101509  17978.986339     6.546600  310.135738    398.410813   \n",
       "\n",
       "   Organic_carbon  Trihalomethanes  Turbidity  Potability  \n",
       "0       10.379783        86.990970   2.963135           0  \n",
       "1       15.180013        56.329076   4.500656           0  \n",
       "2       16.868637        66.420093   3.055934           0  \n",
       "3       18.436524       100.341674   4.628771           0  \n",
       "4       11.558279        31.997993   4.075075           0  "
      ]
     },
     "execution_count": 3,
     "metadata": {},
     "output_type": "execute_result"
    }
   ],
   "source": [
    "df=pd.read_csv(\"water_potability.csv\")\n",
    "df.head()"
   ]
  },
  {
   "cell_type": "markdown",
   "id": "99085af3",
   "metadata": {},
   "source": [
    "# Explanatory Data Analysis"
   ]
  },
  {
   "cell_type": "code",
   "execution_count": 4,
   "id": "26189671",
   "metadata": {},
   "outputs": [
    {
     "data": {
      "text/plain": [
       "(3276, 10)"
      ]
     },
     "execution_count": 4,
     "metadata": {},
     "output_type": "execute_result"
    }
   ],
   "source": [
    "df.shape"
   ]
  },
  {
   "cell_type": "code",
   "execution_count": 5,
   "id": "0525cc16",
   "metadata": {},
   "outputs": [
    {
     "name": "stdout",
     "output_type": "stream",
     "text": [
      "<class 'pandas.core.frame.DataFrame'>\n",
      "RangeIndex: 3276 entries, 0 to 3275\n",
      "Data columns (total 10 columns):\n",
      " #   Column           Non-Null Count  Dtype  \n",
      "---  ------           --------------  -----  \n",
      " 0   ph               2785 non-null   float64\n",
      " 1   Hardness         3276 non-null   float64\n",
      " 2   Solids           3276 non-null   float64\n",
      " 3   Chloramines      3276 non-null   float64\n",
      " 4   Sulfate          2495 non-null   float64\n",
      " 5   Conductivity     3276 non-null   float64\n",
      " 6   Organic_carbon   3276 non-null   float64\n",
      " 7   Trihalomethanes  3114 non-null   float64\n",
      " 8   Turbidity        3276 non-null   float64\n",
      " 9   Potability       3276 non-null   int64  \n",
      "dtypes: float64(9), int64(1)\n",
      "memory usage: 256.1 KB\n"
     ]
    }
   ],
   "source": [
    "df.info()"
   ]
  },
  {
   "cell_type": "code",
   "execution_count": 7,
   "id": "935be75d",
   "metadata": {},
   "outputs": [
    {
     "data": {
      "text/html": [
       "<div>\n",
       "<style scoped>\n",
       "    .dataframe tbody tr th:only-of-type {\n",
       "        vertical-align: middle;\n",
       "    }\n",
       "\n",
       "    .dataframe tbody tr th {\n",
       "        vertical-align: top;\n",
       "    }\n",
       "\n",
       "    .dataframe thead th {\n",
       "        text-align: right;\n",
       "    }\n",
       "</style>\n",
       "<table border=\"1\" class=\"dataframe\">\n",
       "  <thead>\n",
       "    <tr style=\"text-align: right;\">\n",
       "      <th></th>\n",
       "      <th>ph</th>\n",
       "      <th>Hardness</th>\n",
       "      <th>Solids</th>\n",
       "      <th>Chloramines</th>\n",
       "      <th>Sulfate</th>\n",
       "      <th>Conductivity</th>\n",
       "      <th>Organic_carbon</th>\n",
       "      <th>Trihalomethanes</th>\n",
       "      <th>Turbidity</th>\n",
       "      <th>Potability</th>\n",
       "    </tr>\n",
       "  </thead>\n",
       "  <tbody>\n",
       "    <tr>\n",
       "      <th>count</th>\n",
       "      <td>2785.000000</td>\n",
       "      <td>3276.000000</td>\n",
       "      <td>3276.000000</td>\n",
       "      <td>3276.000000</td>\n",
       "      <td>2495.000000</td>\n",
       "      <td>3276.000000</td>\n",
       "      <td>3276.000000</td>\n",
       "      <td>3114.000000</td>\n",
       "      <td>3276.000000</td>\n",
       "      <td>3276.000000</td>\n",
       "    </tr>\n",
       "    <tr>\n",
       "      <th>mean</th>\n",
       "      <td>7.080795</td>\n",
       "      <td>196.369496</td>\n",
       "      <td>22014.092526</td>\n",
       "      <td>7.122277</td>\n",
       "      <td>333.775777</td>\n",
       "      <td>426.205111</td>\n",
       "      <td>14.284970</td>\n",
       "      <td>66.396293</td>\n",
       "      <td>3.966786</td>\n",
       "      <td>0.390110</td>\n",
       "    </tr>\n",
       "    <tr>\n",
       "      <th>std</th>\n",
       "      <td>1.594320</td>\n",
       "      <td>32.879761</td>\n",
       "      <td>8768.570828</td>\n",
       "      <td>1.583085</td>\n",
       "      <td>41.416840</td>\n",
       "      <td>80.824064</td>\n",
       "      <td>3.308162</td>\n",
       "      <td>16.175008</td>\n",
       "      <td>0.780382</td>\n",
       "      <td>0.487849</td>\n",
       "    </tr>\n",
       "    <tr>\n",
       "      <th>min</th>\n",
       "      <td>0.000000</td>\n",
       "      <td>47.432000</td>\n",
       "      <td>320.942611</td>\n",
       "      <td>0.352000</td>\n",
       "      <td>129.000000</td>\n",
       "      <td>181.483754</td>\n",
       "      <td>2.200000</td>\n",
       "      <td>0.738000</td>\n",
       "      <td>1.450000</td>\n",
       "      <td>0.000000</td>\n",
       "    </tr>\n",
       "    <tr>\n",
       "      <th>25%</th>\n",
       "      <td>6.093092</td>\n",
       "      <td>176.850538</td>\n",
       "      <td>15666.690297</td>\n",
       "      <td>6.127421</td>\n",
       "      <td>307.699498</td>\n",
       "      <td>365.734414</td>\n",
       "      <td>12.065801</td>\n",
       "      <td>55.844536</td>\n",
       "      <td>3.439711</td>\n",
       "      <td>0.000000</td>\n",
       "    </tr>\n",
       "    <tr>\n",
       "      <th>50%</th>\n",
       "      <td>7.036752</td>\n",
       "      <td>196.967627</td>\n",
       "      <td>20927.833607</td>\n",
       "      <td>7.130299</td>\n",
       "      <td>333.073546</td>\n",
       "      <td>421.884968</td>\n",
       "      <td>14.218338</td>\n",
       "      <td>66.622485</td>\n",
       "      <td>3.955028</td>\n",
       "      <td>0.000000</td>\n",
       "    </tr>\n",
       "    <tr>\n",
       "      <th>75%</th>\n",
       "      <td>8.062066</td>\n",
       "      <td>216.667456</td>\n",
       "      <td>27332.762127</td>\n",
       "      <td>8.114887</td>\n",
       "      <td>359.950170</td>\n",
       "      <td>481.792304</td>\n",
       "      <td>16.557652</td>\n",
       "      <td>77.337473</td>\n",
       "      <td>4.500320</td>\n",
       "      <td>1.000000</td>\n",
       "    </tr>\n",
       "    <tr>\n",
       "      <th>max</th>\n",
       "      <td>14.000000</td>\n",
       "      <td>323.124000</td>\n",
       "      <td>61227.196008</td>\n",
       "      <td>13.127000</td>\n",
       "      <td>481.030642</td>\n",
       "      <td>753.342620</td>\n",
       "      <td>28.300000</td>\n",
       "      <td>124.000000</td>\n",
       "      <td>6.739000</td>\n",
       "      <td>1.000000</td>\n",
       "    </tr>\n",
       "  </tbody>\n",
       "</table>\n",
       "</div>"
      ],
      "text/plain": [
       "                ph     Hardness        Solids  Chloramines      Sulfate  \\\n",
       "count  2785.000000  3276.000000   3276.000000  3276.000000  2495.000000   \n",
       "mean      7.080795   196.369496  22014.092526     7.122277   333.775777   \n",
       "std       1.594320    32.879761   8768.570828     1.583085    41.416840   \n",
       "min       0.000000    47.432000    320.942611     0.352000   129.000000   \n",
       "25%       6.093092   176.850538  15666.690297     6.127421   307.699498   \n",
       "50%       7.036752   196.967627  20927.833607     7.130299   333.073546   \n",
       "75%       8.062066   216.667456  27332.762127     8.114887   359.950170   \n",
       "max      14.000000   323.124000  61227.196008    13.127000   481.030642   \n",
       "\n",
       "       Conductivity  Organic_carbon  Trihalomethanes    Turbidity   Potability  \n",
       "count   3276.000000     3276.000000      3114.000000  3276.000000  3276.000000  \n",
       "mean     426.205111       14.284970        66.396293     3.966786     0.390110  \n",
       "std       80.824064        3.308162        16.175008     0.780382     0.487849  \n",
       "min      181.483754        2.200000         0.738000     1.450000     0.000000  \n",
       "25%      365.734414       12.065801        55.844536     3.439711     0.000000  \n",
       "50%      421.884968       14.218338        66.622485     3.955028     0.000000  \n",
       "75%      481.792304       16.557652        77.337473     4.500320     1.000000  \n",
       "max      753.342620       28.300000       124.000000     6.739000     1.000000  "
      ]
     },
     "execution_count": 7,
     "metadata": {},
     "output_type": "execute_result"
    }
   ],
   "source": [
    "df.describe()"
   ]
  },
  {
   "cell_type": "code",
   "execution_count": 9,
   "id": "0fc03708",
   "metadata": {},
   "outputs": [
    {
     "data": {
      "text/plain": [
       "ph                 491\n",
       "Hardness             0\n",
       "Solids               0\n",
       "Chloramines          0\n",
       "Sulfate            781\n",
       "Conductivity         0\n",
       "Organic_carbon       0\n",
       "Trihalomethanes    162\n",
       "Turbidity            0\n",
       "Potability           0\n",
       "dtype: int64"
      ]
     },
     "execution_count": 9,
     "metadata": {},
     "output_type": "execute_result"
    }
   ],
   "source": [
    "df.isna().sum()"
   ]
  },
  {
   "cell_type": "code",
   "execution_count": 13,
   "id": "21aa456d",
   "metadata": {},
   "outputs": [
    {
     "data": {
      "text/plain": [
       "Sulfate            23.840049\n",
       "ph                 14.987790\n",
       "Trihalomethanes     4.945055\n",
       "Hardness            0.000000\n",
       "Solids              0.000000\n",
       "Chloramines         0.000000\n",
       "Conductivity        0.000000\n",
       "Organic_carbon      0.000000\n",
       "Turbidity           0.000000\n",
       "Potability          0.000000\n",
       "dtype: float64"
      ]
     },
     "execution_count": 13,
     "metadata": {},
     "output_type": "execute_result"
    }
   ],
   "source": [
    "(df.isna().sum()/df.shape[0]*100).sort_values(ascending=False)"
   ]
  },
  {
   "cell_type": "code",
   "execution_count": null,
   "id": "1036e34d",
   "metadata": {},
   "outputs": [],
   "source": [
    "# Sulphate,ph and Trihalomethanes features have missing values."
   ]
  },
  {
   "cell_type": "code",
   "execution_count": 18,
   "id": "b3ce6fdb",
   "metadata": {},
   "outputs": [
    {
     "name": "stdout",
     "output_type": "stream",
     "text": [
      "ph                 0.025630\n",
      "Hardness          -0.039342\n",
      "Solids             0.621634\n",
      "Chloramines       -0.012098\n",
      "Sulfate           -0.035947\n",
      "Conductivity       0.264490\n",
      "Organic_carbon     0.025533\n",
      "Trihalomethanes   -0.083031\n",
      "Turbidity         -0.007817\n",
      "Potability         0.450784\n",
      "dtype: float64\n"
     ]
    }
   ],
   "source": [
    "print(df.skew())"
   ]
  },
  {
   "cell_type": "code",
   "execution_count": 20,
   "id": "68069bb7",
   "metadata": {},
   "outputs": [
    {
     "data": {
      "image/png": "[encoded data removed]",
      "text/plain": [
       "<Figure size 1080x720 with 12 Axes>"
      ]
     },
     "metadata": {
      "needs_background": "light"
     },
     "output_type": "display_data"
    }
   ],
   "source": [
    "plt.rcParams[\"figure.figsize\"]=[15,10]\n",
    "df.hist()\n",
    "plt.show()"
   ]
  },
  {
   "cell_type": "code",
   "execution_count": 19,
   "id": "acda5003",
   "metadata": {},
   "outputs": [],
   "source": [
    "# ALmost all of the features are normally distributed.\n",
    "# We can use mean to impute the missing values."
   ]
  },
  {
   "cell_type": "code",
   "execution_count": 23,
   "id": "6f850baf",
   "metadata": {},
   "outputs": [],
   "source": [
    "df=df.apply(lambda x:x.fillna(x.mean()))"
   ]
  },
  {
   "cell_type": "code",
   "execution_count": 24,
   "id": "1eb89d17",
   "metadata": {},
   "outputs": [
    {
     "data": {
      "text/plain": [
       "ph                 0.0\n",
       "Hardness           0.0\n",
       "Solids             0.0\n",
       "Chloramines        0.0\n",
       "Sulfate            0.0\n",
       "Conductivity       0.0\n",
       "Organic_carbon     0.0\n",
       "Trihalomethanes    0.0\n",
       "Turbidity          0.0\n",
       "Potability         0.0\n",
       "dtype: float64"
      ]
     },
     "execution_count": 24,
     "metadata": {},
     "output_type": "execute_result"
    }
   ],
   "source": [
    "(df.isna().sum()/df.shape[0]*100).sort_values(ascending=False)"
   ]
  },
  {
   "cell_type": "code",
   "execution_count": null,
   "id": "368097e9",
   "metadata": {},
   "outputs": [],
   "source": [
    "# No more missing values."
   ]
  },
  {
   "cell_type": "code",
   "execution_count": null,
   "id": "410698fa",
   "metadata": {},
   "outputs": [],
   "source": [
    "# Correlation"
   ]
  },
  {
   "cell_type": "code",
   "execution_count": 25,
   "id": "84f74569",
   "metadata": {},
   "outputs": [
    {
     "data": {
      "image/png": "[encoded data removed]",
      "text/plain": [
       "<Figure size 1080x720 with 2 Axes>"
      ]
     },
     "metadata": {
      "needs_background": "light"
     },
     "output_type": "display_data"
    }
   ],
   "source": [
    "sns.heatmap(df.corr(),annot=True)\n",
    "plt.show()"
   ]
  },
  {
   "cell_type": "code",
   "execution_count": 26,
   "id": "e4b76693",
   "metadata": {},
   "outputs": [],
   "source": [
    "# None of the variables are strongly correlated."
   ]
  },
  {
   "cell_type": "code",
   "execution_count": 27,
   "id": "b94fc759",
   "metadata": {},
   "outputs": [
    {
     "data": {
      "image/png": "[encoded data removed]",
      "text/plain": [
       "<Figure size 1080x720 with 1 Axes>"
      ]
     },
     "metadata": {
      "needs_background": "light"
     },
     "output_type": "display_data"
    }
   ],
   "source": [
    "df.boxplot()\n",
    "plt.show()"
   ]
  },
  {
   "cell_type": "code",
   "execution_count": 29,
   "id": "2be74d0f",
   "metadata": {},
   "outputs": [],
   "source": [
    "# There is significant amount of outliers present in the columns Solids.\n",
    "# We can try to remove them to make our model perform better.\n",
    "# But it has to be with caution in real world.\n",
    "# Consultation with the business or clients is recommended."
   ]
  },
  {
   "cell_type": "code",
   "execution_count": 63,
   "id": "916123c6",
   "metadata": {},
   "outputs": [
    {
     "data": {
      "text/plain": [
       "0    60.989011\n",
       "1    39.010989\n",
       "Name: Potability, dtype: float64"
      ]
     },
     "execution_count": 63,
     "metadata": {},
     "output_type": "execute_result"
    }
   ],
   "source": [
    "df.Potability.value_counts()/df.shape[0]*100"
   ]
  },
  {
   "cell_type": "code",
   "execution_count": 93,
   "id": "8bdd6c9d",
   "metadata": {},
   "outputs": [],
   "source": [
    "# Segregate the independent and the dependent variables.\n",
    "\n",
    "X=df.drop(\"Potability\",axis=1)\n",
    "y=df[\"Potability\"]"
   ]
  },
  {
   "cell_type": "code",
   "execution_count": 94,
   "id": "f1e42b7d",
   "metadata": {},
   "outputs": [],
   "source": [
    "# Scale the features as per standard normal curve"
   ]
  },
  {
   "cell_type": "code",
   "execution_count": 95,
   "id": "ac5a86fa",
   "metadata": {},
   "outputs": [
    {
     "data": {
      "text/html": [
       "<div>\n",
       "<style scoped>\n",
       "    .dataframe tbody tr th:only-of-type {\n",
       "        vertical-align: middle;\n",
       "    }\n",
       "\n",
       "    .dataframe tbody tr th {\n",
       "        vertical-align: top;\n",
       "    }\n",
       "\n",
       "    .dataframe thead th {\n",
       "        text-align: right;\n",
       "    }\n",
       "</style>\n",
       "<table border=\"1\" class=\"dataframe\">\n",
       "  <thead>\n",
       "    <tr style=\"text-align: right;\">\n",
       "      <th></th>\n",
       "      <th>ph</th>\n",
       "      <th>Hardness</th>\n",
       "      <th>Solids</th>\n",
       "      <th>Chloramines</th>\n",
       "      <th>Sulfate</th>\n",
       "      <th>Conductivity</th>\n",
       "      <th>Organic_carbon</th>\n",
       "      <th>Trihalomethanes</th>\n",
       "      <th>Turbidity</th>\n",
       "    </tr>\n",
       "  </thead>\n",
       "  <tbody>\n",
       "    <tr>\n",
       "      <th>0</th>\n",
       "      <td>-6.043133e-16</td>\n",
       "      <td>0.259195</td>\n",
       "      <td>-0.139471</td>\n",
       "      <td>0.112415</td>\n",
       "      <td>9.613574e-01</td>\n",
       "      <td>1.708954</td>\n",
       "      <td>-1.180651</td>\n",
       "      <td>1.306149</td>\n",
       "      <td>-1.286298</td>\n",
       "    </tr>\n",
       "    <tr>\n",
       "      <th>1</th>\n",
       "      <td>-2.289339e+00</td>\n",
       "      <td>-2.036414</td>\n",
       "      <td>-0.385987</td>\n",
       "      <td>-0.307694</td>\n",
       "      <td>3.145987e-15</td>\n",
       "      <td>2.062575</td>\n",
       "      <td>0.270597</td>\n",
       "      <td>-0.638480</td>\n",
       "      <td>0.684218</td>\n",
       "    </tr>\n",
       "    <tr>\n",
       "      <th>2</th>\n",
       "      <td>6.928678e-01</td>\n",
       "      <td>0.847665</td>\n",
       "      <td>-0.240047</td>\n",
       "      <td>1.360594</td>\n",
       "      <td>3.145987e-15</td>\n",
       "      <td>-0.094032</td>\n",
       "      <td>0.781117</td>\n",
       "      <td>0.001509</td>\n",
       "      <td>-1.167365</td>\n",
       "    </tr>\n",
       "    <tr>\n",
       "      <th>3</th>\n",
       "      <td>8.409504e-01</td>\n",
       "      <td>0.547651</td>\n",
       "      <td>0.000493</td>\n",
       "      <td>0.592008</td>\n",
       "      <td>6.395190e-01</td>\n",
       "      <td>-0.778830</td>\n",
       "      <td>1.255134</td>\n",
       "      <td>2.152874</td>\n",
       "      <td>0.848412</td>\n",
       "    </tr>\n",
       "    <tr>\n",
       "      <th>4</th>\n",
       "      <td>1.368569e+00</td>\n",
       "      <td>-0.464429</td>\n",
       "      <td>-0.460249</td>\n",
       "      <td>-0.363698</td>\n",
       "      <td>-6.541765e-01</td>\n",
       "      <td>-0.343939</td>\n",
       "      <td>-0.824357</td>\n",
       "      <td>-2.181599</td>\n",
       "      <td>0.138786</td>\n",
       "    </tr>\n",
       "  </tbody>\n",
       "</table>\n",
       "</div>"
      ],
      "text/plain": [
       "             ph  Hardness    Solids  Chloramines       Sulfate  Conductivity  \\\n",
       "0 -6.043133e-16  0.259195 -0.139471     0.112415  9.613574e-01      1.708954   \n",
       "1 -2.289339e+00 -2.036414 -0.385987    -0.307694  3.145987e-15      2.062575   \n",
       "2  6.928678e-01  0.847665 -0.240047     1.360594  3.145987e-15     -0.094032   \n",
       "3  8.409504e-01  0.547651  0.000493     0.592008  6.395190e-01     -0.778830   \n",
       "4  1.368569e+00 -0.464429 -0.460249    -0.363698 -6.541765e-01     -0.343939   \n",
       "\n",
       "   Organic_carbon  Trihalomethanes  Turbidity  \n",
       "0       -1.180651         1.306149  -1.286298  \n",
       "1        0.270597        -0.638480   0.684218  \n",
       "2        0.781117         0.001509  -1.167365  \n",
       "3        1.255134         2.152874   0.848412  \n",
       "4       -0.824357        -2.181599   0.138786  "
      ]
     },
     "execution_count": 95,
     "metadata": {},
     "output_type": "execute_result"
    }
   ],
   "source": [
    "from sklearn.preprocessing import StandardScaler\n",
    "sc=StandardScaler()\n",
    "inp_sc=sc.fit_transform(X)\n",
    "inp_sc=pd.DataFrame(inp_sc,columns=X.columns)\n",
    "inp_sc.head()"
   ]
  },
  {
   "cell_type": "code",
   "execution_count": 96,
   "id": "92540a33",
   "metadata": {},
   "outputs": [
    {
     "data": {
      "text/plain": [
       "(3276, 9)"
      ]
     },
     "execution_count": 96,
     "metadata": {},
     "output_type": "execute_result"
    }
   ],
   "source": [
    "inp_sc.shape"
   ]
  },
  {
   "cell_type": "code",
   "execution_count": 97,
   "id": "ef259b94",
   "metadata": {},
   "outputs": [
    {
     "data": {
      "text/plain": [
       "0    0\n",
       "1    0\n",
       "2    0\n",
       "3    0\n",
       "4    0\n",
       "Name: Potability, dtype: int64"
      ]
     },
     "execution_count": 97,
     "metadata": {},
     "output_type": "execute_result"
    }
   ],
   "source": [
    "y.head()"
   ]
  },
  {
   "cell_type": "markdown",
   "id": "1fc5a643",
   "metadata": {},
   "source": [
    "# Split the data into train and test"
   ]
  },
  {
   "cell_type": "code",
   "execution_count": 98,
   "id": "d242db6c",
   "metadata": {},
   "outputs": [],
   "source": [
    "from sklearn.model_selection import train_test_split\n",
    "X_train,X_test,y_train,y_test=train_test_split(X,y,test_size=0.3,random_state=3)"
   ]
  },
  {
   "cell_type": "code",
   "execution_count": 99,
   "id": "fe77a2a8",
   "metadata": {},
   "outputs": [],
   "source": [
    "from tensorflow.keras.models import Sequential\n",
    "from tensorflow.keras.layers import Dense"
   ]
  },
  {
   "cell_type": "markdown",
   "id": "6aad185e",
   "metadata": {},
   "source": [
    "# Define the ANN model"
   ]
  },
  {
   "cell_type": "code",
   "execution_count": 106,
   "id": "67e3349a",
   "metadata": {},
   "outputs": [],
   "source": [
    "# Define the ANN model\n",
    "\n",
    "model=Sequential()\n",
    "model.add(Dense(units=256,activation=\"relu\",input_dim=9))\n",
    "model.add(Dense(units=128,activation=\"relu\"))\n",
    "model.add(Dense(units=64,activation=\"relu\"))\n",
    "model.add(Dense(units=32,activation=\"relu\"))\n",
    "model.add(Dense(units=1,activation=\"sigmoid\"))"
   ]
  },
  {
   "cell_type": "code",
   "execution_count": 107,
   "id": "6baeee50",
   "metadata": {},
   "outputs": [],
   "source": [
    "# compile the model\n",
    "\n",
    "model.compile(optimizer=\"adam\",loss=\"binary_crossentropy\",metrics=[\"accuracy\"])"
   ]
  },
  {
   "cell_type": "code",
   "execution_count": 108,
   "id": "341dadb5",
   "metadata": {},
   "outputs": [
    {
     "name": "stdout",
     "output_type": "stream",
     "text": [
      "Epoch 1/100\n",
      "72/72 [==============================] - 0s 3ms/step - loss: 33.3498 - accuracy: 0.5329 - val_loss: 12.6716 - val_accuracy: 0.3917\n",
      "Epoch 2/100\n",
      "72/72 [==============================] - 0s 1ms/step - loss: 47.4981 - accuracy: 0.5198 - val_loss: 12.9447 - val_accuracy: 0.3917\n",
      "Epoch 3/100\n",
      "72/72 [==============================] - 0s 1ms/step - loss: 17.4675 - accuracy: 0.5268 - val_loss: 4.4372 - val_accuracy: 0.3896\n",
      "Epoch 4/100\n",
      "72/72 [==============================] - 0s 1ms/step - loss: 8.7253 - accuracy: 0.5321 - val_loss: 10.4610 - val_accuracy: 0.3927\n",
      "Epoch 5/100\n",
      "72/72 [==============================] - 0s 1ms/step - loss: 9.9170 - accuracy: 0.5399 - val_loss: 4.9008 - val_accuracy: 0.6053\n",
      "Epoch 6/100\n",
      "72/72 [==============================] - 0s 1ms/step - loss: 5.5030 - accuracy: 0.5185 - val_loss: 7.8456 - val_accuracy: 0.3947\n",
      "Epoch 7/100\n",
      "72/72 [==============================] - 0s 1ms/step - loss: 6.8507 - accuracy: 0.5185 - val_loss: 8.4654 - val_accuracy: 0.3947\n",
      "Epoch 8/100\n",
      "72/72 [==============================] - 0s 1ms/step - loss: 6.5844 - accuracy: 0.5238 - val_loss: 3.4560 - val_accuracy: 0.6043\n",
      "Epoch 9/100\n",
      "72/72 [==============================] - 0s 1ms/step - loss: 2.0036 - accuracy: 0.5172 - val_loss: 5.1573 - val_accuracy: 0.6053\n",
      "Epoch 10/100\n",
      "72/72 [==============================] - 0s 1ms/step - loss: 3.7475 - accuracy: 0.5342 - val_loss: 0.7329 - val_accuracy: 0.5890\n",
      "Epoch 11/100\n",
      "72/72 [==============================] - 0s 1ms/step - loss: 1.8104 - accuracy: 0.5216 - val_loss: 3.7351 - val_accuracy: 0.3937\n",
      "Epoch 12/100\n",
      "72/72 [==============================] - 0s 1ms/step - loss: 2.0201 - accuracy: 0.5369 - val_loss: 1.8136 - val_accuracy: 0.6063\n",
      "Epoch 13/100\n",
      "72/72 [==============================] - 0s 1ms/step - loss: 1.6854 - accuracy: 0.5316 - val_loss: 1.0896 - val_accuracy: 0.6063\n",
      "Epoch 14/100\n",
      "72/72 [==============================] - 0s 1ms/step - loss: 1.2781 - accuracy: 0.5225 - val_loss: 0.6920 - val_accuracy: 0.6053\n",
      "Epoch 15/100\n",
      "72/72 [==============================] - 0s 1ms/step - loss: 2.3153 - accuracy: 0.5203 - val_loss: 0.9020 - val_accuracy: 0.4262\n",
      "Epoch 16/100\n",
      "72/72 [==============================] - 0s 1ms/step - loss: 1.4338 - accuracy: 0.5294 - val_loss: 0.6739 - val_accuracy: 0.6185\n",
      "Epoch 17/100\n",
      "72/72 [==============================] - 0s 1ms/step - loss: 1.4803 - accuracy: 0.5220 - val_loss: 1.5048 - val_accuracy: 0.6073\n",
      "Epoch 18/100\n",
      "72/72 [==============================] - 0s 1ms/step - loss: 1.0312 - accuracy: 0.5451 - val_loss: 0.7825 - val_accuracy: 0.4415\n",
      "Epoch 19/100\n",
      "72/72 [==============================] - 0s 1ms/step - loss: 1.0743 - accuracy: 0.5198 - val_loss: 1.2516 - val_accuracy: 0.6073\n",
      "Epoch 20/100\n",
      "72/72 [==============================] - 0s 1ms/step - loss: 0.8881 - accuracy: 0.5425 - val_loss: 0.6899 - val_accuracy: 0.6073\n",
      "Epoch 21/100\n",
      "72/72 [==============================] - 0s 1ms/step - loss: 0.8381 - accuracy: 0.5504 - val_loss: 1.2419 - val_accuracy: 0.6073\n",
      "Epoch 22/100\n",
      "72/72 [==============================] - 0s 1ms/step - loss: 1.0198 - accuracy: 0.5382 - val_loss: 1.7081 - val_accuracy: 0.3947\n",
      "Epoch 23/100\n",
      "72/72 [==============================] - 0s 1ms/step - loss: 1.1229 - accuracy: 0.5329 - val_loss: 0.8785 - val_accuracy: 0.6094\n",
      "Epoch 24/100\n",
      "72/72 [==============================] - 0s 1ms/step - loss: 1.2224 - accuracy: 0.5307 - val_loss: 0.7266 - val_accuracy: 0.4964\n",
      "Epoch 25/100\n",
      "72/72 [==============================] - 0s 1ms/step - loss: 1.2805 - accuracy: 0.5164 - val_loss: 1.9313 - val_accuracy: 0.6043\n",
      "Epoch 26/100\n",
      "72/72 [==============================] - 0s 1ms/step - loss: 0.8500 - accuracy: 0.5469 - val_loss: 1.2079 - val_accuracy: 0.3967\n",
      "Epoch 27/100\n",
      "72/72 [==============================] - 0s 1ms/step - loss: 0.8767 - accuracy: 0.5547 - val_loss: 0.6690 - val_accuracy: 0.6053\n",
      "Epoch 28/100\n",
      "72/72 [==============================] - 0s 1ms/step - loss: 0.7730 - accuracy: 0.5608 - val_loss: 0.7011 - val_accuracy: 0.5056\n",
      "Epoch 29/100\n",
      "72/72 [==============================] - 0s 1ms/step - loss: 0.7590 - accuracy: 0.5512 - val_loss: 0.8257 - val_accuracy: 0.6094\n",
      "Epoch 30/100\n",
      "72/72 [==============================] - 0s 1ms/step - loss: 1.0541 - accuracy: 0.5412 - val_loss: 0.9931 - val_accuracy: 0.6073\n",
      "Epoch 31/100\n",
      "72/72 [==============================] - 0s 1ms/step - loss: 0.8716 - accuracy: 0.5438 - val_loss: 0.9862 - val_accuracy: 0.4049\n",
      "Epoch 32/100\n",
      "72/72 [==============================] - 0s 1ms/step - loss: 0.8349 - accuracy: 0.5578 - val_loss: 0.6750 - val_accuracy: 0.6083\n",
      "Epoch 33/100\n",
      "72/72 [==============================] - 0s 1ms/step - loss: 0.7253 - accuracy: 0.5722 - val_loss: 0.8133 - val_accuracy: 0.4079\n",
      "Epoch 34/100\n",
      "72/72 [==============================] - 0s 1ms/step - loss: 0.8411 - accuracy: 0.5539 - val_loss: 0.9767 - val_accuracy: 0.3947\n",
      "Epoch 35/100\n",
      "72/72 [==============================] - 0s 1ms/step - loss: 0.8529 - accuracy: 0.5294 - val_loss: 0.8191 - val_accuracy: 0.6073\n",
      "Epoch 36/100\n",
      "72/72 [==============================] - 0s 1ms/step - loss: 0.7095 - accuracy: 0.5639 - val_loss: 0.7026 - val_accuracy: 0.6083\n",
      "Epoch 37/100\n",
      "72/72 [==============================] - 0s 1ms/step - loss: 0.6926 - accuracy: 0.5870 - val_loss: 0.7170 - val_accuracy: 0.5351\n",
      "Epoch 38/100\n",
      "72/72 [==============================] - 0s 1ms/step - loss: 0.7143 - accuracy: 0.5547 - val_loss: 0.8144 - val_accuracy: 0.6094\n",
      "Epoch 39/100\n",
      "72/72 [==============================] - 0s 1ms/step - loss: 0.7040 - accuracy: 0.5735 - val_loss: 0.6937 - val_accuracy: 0.6094\n",
      "Epoch 40/100\n",
      "72/72 [==============================] - 0s 1ms/step - loss: 0.6981 - accuracy: 0.5652 - val_loss: 0.6985 - val_accuracy: 0.6094\n",
      "Epoch 41/100\n",
      "72/72 [==============================] - 0s 1ms/step - loss: 0.6857 - accuracy: 0.5848 - val_loss: 0.7735 - val_accuracy: 0.4639\n",
      "Epoch 42/100\n",
      "72/72 [==============================] - 0s 1ms/step - loss: 0.6964 - accuracy: 0.5835 - val_loss: 0.7908 - val_accuracy: 0.6063\n",
      "Epoch 43/100\n",
      "72/72 [==============================] - 0s 1ms/step - loss: 1.1114 - accuracy: 0.5399 - val_loss: 1.0258 - val_accuracy: 0.6063\n",
      "Epoch 44/100\n",
      "72/72 [==============================] - 0s 1ms/step - loss: 0.7924 - accuracy: 0.5412 - val_loss: 0.7555 - val_accuracy: 0.4008\n",
      "Epoch 45/100\n",
      "72/72 [==============================] - 0s 1ms/step - loss: 0.8804 - accuracy: 0.5443 - val_loss: 0.9753 - val_accuracy: 0.3967\n",
      "Epoch 46/100\n",
      "72/72 [==============================] - 0s 1ms/step - loss: 0.7357 - accuracy: 0.5552 - val_loss: 0.7001 - val_accuracy: 0.6083\n",
      "Epoch 47/100\n",
      "72/72 [==============================] - 0s 1ms/step - loss: 0.6904 - accuracy: 0.5826 - val_loss: 0.7241 - val_accuracy: 0.6073\n",
      "Epoch 48/100\n",
      "72/72 [==============================] - 0s 1ms/step - loss: 0.6858 - accuracy: 0.5826 - val_loss: 0.6994 - val_accuracy: 0.6063\n",
      "Epoch 49/100\n",
      "72/72 [==============================] - 0s 1ms/step - loss: 0.6920 - accuracy: 0.5778 - val_loss: 0.6873 - val_accuracy: 0.6073\n",
      "Epoch 50/100\n",
      "72/72 [==============================] - 0s 1ms/step - loss: 0.6861 - accuracy: 0.5787 - val_loss: 0.8566 - val_accuracy: 0.4344\n",
      "Epoch 51/100\n",
      "72/72 [==============================] - 0s 1ms/step - loss: 0.7244 - accuracy: 0.5722 - val_loss: 0.7425 - val_accuracy: 0.6063\n",
      "Epoch 52/100\n",
      "72/72 [==============================] - 0s 1ms/step - loss: 0.6997 - accuracy: 0.5757 - val_loss: 0.6989 - val_accuracy: 0.6073\n",
      "Epoch 53/100\n",
      "72/72 [==============================] - 0s 1ms/step - loss: 0.7047 - accuracy: 0.5713 - val_loss: 0.7522 - val_accuracy: 0.3998\n",
      "Epoch 54/100\n",
      "72/72 [==============================] - 0s 1ms/step - loss: 0.7479 - accuracy: 0.5512 - val_loss: 0.7446 - val_accuracy: 0.4252\n",
      "Epoch 55/100\n",
      "72/72 [==============================] - 0s 1ms/step - loss: 0.6898 - accuracy: 0.5792 - val_loss: 0.7098 - val_accuracy: 0.6063\n",
      "Epoch 56/100\n",
      "72/72 [==============================] - 0s 956us/step - loss: 0.6916 - accuracy: 0.5748 - val_loss: 0.6881 - val_accuracy: 0.6063\n",
      "Epoch 57/100\n",
      "72/72 [==============================] - 0s 1ms/step - loss: 0.6784 - accuracy: 0.6010 - val_loss: 0.7471 - val_accuracy: 0.6063\n",
      "Epoch 58/100\n",
      "72/72 [==============================] - 0s 1ms/step - loss: 0.6918 - accuracy: 0.5800 - val_loss: 0.6997 - val_accuracy: 0.6063\n"
     ]
    },
    {
     "name": "stdout",
     "output_type": "stream",
     "text": [
      "Epoch 59/100\n",
      "72/72 [==============================] - 0s 1ms/step - loss: 0.6755 - accuracy: 0.6018 - val_loss: 0.6910 - val_accuracy: 0.6073\n",
      "Epoch 60/100\n",
      "72/72 [==============================] - 0s 1ms/step - loss: 0.6846 - accuracy: 0.5988 - val_loss: 0.7004 - val_accuracy: 0.6063\n",
      "Epoch 61/100\n",
      "72/72 [==============================] - 0s 1ms/step - loss: 0.7096 - accuracy: 0.5783 - val_loss: 0.8235 - val_accuracy: 0.4039\n",
      "Epoch 62/100\n",
      "72/72 [==============================] - 0s 1ms/step - loss: 0.6949 - accuracy: 0.5848 - val_loss: 0.7946 - val_accuracy: 0.6063\n",
      "Epoch 63/100\n",
      "72/72 [==============================] - 0s 1ms/step - loss: 0.6893 - accuracy: 0.5879 - val_loss: 0.8348 - val_accuracy: 0.6083\n",
      "Epoch 64/100\n",
      "72/72 [==============================] - 0s 1ms/step - loss: 0.8377 - accuracy: 0.5377 - val_loss: 0.7102 - val_accuracy: 0.6063\n",
      "Epoch 65/100\n",
      "72/72 [==============================] - 0s 1ms/step - loss: 0.7149 - accuracy: 0.5573 - val_loss: 0.7006 - val_accuracy: 0.6033\n",
      "Epoch 66/100\n",
      "72/72 [==============================] - 0s 1ms/step - loss: 0.7072 - accuracy: 0.5621 - val_loss: 0.7054 - val_accuracy: 0.6063\n",
      "Epoch 67/100\n",
      "72/72 [==============================] - 0s 2ms/step - loss: 0.6808 - accuracy: 0.5957 - val_loss: 0.6966 - val_accuracy: 0.6063\n",
      "Epoch 68/100\n",
      "72/72 [==============================] - 0s 2ms/step - loss: 0.7208 - accuracy: 0.5573 - val_loss: 0.7563 - val_accuracy: 0.6063\n",
      "Epoch 69/100\n",
      "72/72 [==============================] - 0s 1ms/step - loss: 0.7402 - accuracy: 0.5770 - val_loss: 0.7156 - val_accuracy: 0.5788\n",
      "Epoch 70/100\n",
      "72/72 [==============================] - 0s 1ms/step - loss: 0.7260 - accuracy: 0.5595 - val_loss: 0.6929 - val_accuracy: 0.6073\n",
      "Epoch 71/100\n",
      "72/72 [==============================] - 0s 1ms/step - loss: 0.7545 - accuracy: 0.5704 - val_loss: 0.6914 - val_accuracy: 0.6063\n",
      "Epoch 72/100\n",
      "72/72 [==============================] - 0s 1ms/step - loss: 0.6919 - accuracy: 0.5861 - val_loss: 0.6881 - val_accuracy: 0.6073\n",
      "Epoch 73/100\n",
      "72/72 [==============================] - 0s 1ms/step - loss: 0.6924 - accuracy: 0.5783 - val_loss: 0.7599 - val_accuracy: 0.6063\n",
      "Epoch 74/100\n",
      "72/72 [==============================] - 0s 1ms/step - loss: 0.6776 - accuracy: 0.6044 - val_loss: 0.6941 - val_accuracy: 0.6053\n",
      "Epoch 75/100\n",
      "72/72 [==============================] - 0s 1ms/step - loss: 0.6721 - accuracy: 0.6132 - val_loss: 0.6916 - val_accuracy: 0.6063\n",
      "Epoch 76/100\n",
      "72/72 [==============================] - 0s 1ms/step - loss: 0.6695 - accuracy: 0.6127 - val_loss: 0.6822 - val_accuracy: 0.6053\n",
      "Epoch 77/100\n",
      "72/72 [==============================] - 0s 1ms/step - loss: 1.1116 - accuracy: 0.5635 - val_loss: 0.7470 - val_accuracy: 0.6073\n",
      "Epoch 78/100\n",
      "72/72 [==============================] - 0s 1ms/step - loss: 0.8172 - accuracy: 0.5691 - val_loss: 0.6697 - val_accuracy: 0.6073\n",
      "Epoch 79/100\n",
      "72/72 [==============================] - 0s 1ms/step - loss: 0.6853 - accuracy: 0.5949 - val_loss: 0.6693 - val_accuracy: 0.6073\n",
      "Epoch 80/100\n",
      "72/72 [==============================] - 0s 1ms/step - loss: 0.6782 - accuracy: 0.5940 - val_loss: 0.6733 - val_accuracy: 0.6063\n",
      "Epoch 81/100\n",
      "72/72 [==============================] - 0s 1ms/step - loss: 0.6898 - accuracy: 0.5744 - val_loss: 0.6949 - val_accuracy: 0.6063\n",
      "Epoch 82/100\n",
      "72/72 [==============================] - 0s 1ms/step - loss: 0.6759 - accuracy: 0.6075 - val_loss: 0.6753 - val_accuracy: 0.6053\n",
      "Epoch 83/100\n",
      "72/72 [==============================] - 0s 1ms/step - loss: 0.6693 - accuracy: 0.6127 - val_loss: 0.6700 - val_accuracy: 0.6073\n",
      "Epoch 84/100\n",
      "72/72 [==============================] - 0s 1ms/step - loss: 0.6675 - accuracy: 0.6127 - val_loss: 0.6696 - val_accuracy: 0.6073\n",
      "Epoch 85/100\n",
      "72/72 [==============================] - 0s 1ms/step - loss: 0.6674 - accuracy: 0.6127 - val_loss: 0.6676 - val_accuracy: 0.6073\n",
      "Epoch 86/100\n",
      "72/72 [==============================] - 0s 1ms/step - loss: 0.6675 - accuracy: 0.6127 - val_loss: 0.6679 - val_accuracy: 0.6073\n",
      "Epoch 87/100\n",
      "72/72 [==============================] - 0s 1ms/step - loss: 0.6675 - accuracy: 0.6127 - val_loss: 0.6686 - val_accuracy: 0.6073\n",
      "Epoch 88/100\n",
      "72/72 [==============================] - 0s 1ms/step - loss: 0.6680 - accuracy: 0.6127 - val_loss: 0.6686 - val_accuracy: 0.6073\n",
      "Epoch 89/100\n",
      "72/72 [==============================] - 0s 997us/step - loss: 0.6675 - accuracy: 0.6127 - val_loss: 0.6698 - val_accuracy: 0.6073\n",
      "Epoch 90/100\n",
      "72/72 [==============================] - 0s 1ms/step - loss: 0.6679 - accuracy: 0.6127 - val_loss: 0.6692 - val_accuracy: 0.6073\n",
      "Epoch 91/100\n",
      "72/72 [==============================] - 0s 1ms/step - loss: 0.6674 - accuracy: 0.6127 - val_loss: 0.6690 - val_accuracy: 0.6073\n",
      "Epoch 92/100\n",
      "72/72 [==============================] - 0s 1ms/step - loss: 0.6671 - accuracy: 0.6127 - val_loss: 0.6689 - val_accuracy: 0.6073\n",
      "Epoch 93/100\n",
      "72/72 [==============================] - 0s 1ms/step - loss: 0.6670 - accuracy: 0.6127 - val_loss: 0.6689 - val_accuracy: 0.6073\n",
      "Epoch 94/100\n",
      "72/72 [==============================] - 0s 1ms/step - loss: 0.6670 - accuracy: 0.6127 - val_loss: 0.6690 - val_accuracy: 0.6073\n",
      "Epoch 95/100\n",
      "72/72 [==============================] - 0s 1ms/step - loss: 0.6669 - accuracy: 0.6127 - val_loss: 0.6690 - val_accuracy: 0.6073\n",
      "Epoch 96/100\n",
      "72/72 [==============================] - 0s 1ms/step - loss: 0.6670 - accuracy: 0.6127 - val_loss: 0.6690 - val_accuracy: 0.6073\n",
      "Epoch 97/100\n",
      "72/72 [==============================] - 0s 1ms/step - loss: 0.6669 - accuracy: 0.6127 - val_loss: 0.6690 - val_accuracy: 0.6073\n",
      "Epoch 98/100\n",
      "72/72 [==============================] - 0s 1ms/step - loss: 0.6670 - accuracy: 0.6127 - val_loss: 0.6690 - val_accuracy: 0.6073\n",
      "Epoch 99/100\n",
      "72/72 [==============================] - 0s 1ms/step - loss: 0.6669 - accuracy: 0.6127 - val_loss: 0.6690 - val_accuracy: 0.6073\n",
      "Epoch 100/100\n",
      "72/72 [==============================] - 0s 1ms/step - loss: 0.6669 - accuracy: 0.6127 - val_loss: 0.6690 - val_accuracy: 0.6073\n"
     ]
    }
   ],
   "source": [
    "# Fit the model\n",
    "\n",
    "hist=model.fit(X_train,y_train,batch_size=32,epochs=100,validation_data=(X_test,y_test))"
   ]
  },
  {
   "cell_type": "code",
   "execution_count": 109,
   "id": "b0579f1f",
   "metadata": {},
   "outputs": [
    {
     "name": "stdout",
     "output_type": "stream",
     "text": [
      "Model: \"sequential_6\"\n",
      "_________________________________________________________________\n",
      "Layer (type)                 Output Shape              Param #   \n",
      "=================================================================\n",
      "dense_24 (Dense)             (None, 256)               2560      \n",
      "_________________________________________________________________\n",
      "dense_25 (Dense)             (None, 128)               32896     \n",
      "_________________________________________________________________\n",
      "dense_26 (Dense)             (None, 64)                8256      \n",
      "_________________________________________________________________\n",
      "dense_27 (Dense)             (None, 32)                2080      \n",
      "_________________________________________________________________\n",
      "dense_28 (Dense)             (None, 1)                 33        \n",
      "=================================================================\n",
      "Total params: 45,825\n",
      "Trainable params: 45,825\n",
      "Non-trainable params: 0\n",
      "_________________________________________________________________\n"
     ]
    }
   ],
   "source": [
    "model.summary()"
   ]
  },
  {
   "cell_type": "markdown",
   "id": "c386e4d3",
   "metadata": {},
   "source": [
    "# Prediction of ANN model"
   ]
  },
  {
   "cell_type": "code",
   "execution_count": 110,
   "id": "4a93bad4",
   "metadata": {},
   "outputs": [],
   "source": [
    "pred=model.predict(X_test).round()\n",
    "pred_train=model.predict(X_train).round()"
   ]
  },
  {
   "cell_type": "code",
   "execution_count": 111,
   "id": "064fd869",
   "metadata": {},
   "outputs": [],
   "source": [
    "from sklearn.metrics import confusion_matrix,classification_report"
   ]
  },
  {
   "cell_type": "code",
   "execution_count": 112,
   "id": "bdb6e107",
   "metadata": {},
   "outputs": [
    {
     "name": "stdout",
     "output_type": "stream",
     "text": [
      "              precision    recall  f1-score   support\n",
      "\n",
      "           0       0.61      1.00      0.76       595\n",
      "           1       1.00      0.01      0.01       388\n",
      "\n",
      "    accuracy                           0.61       983\n",
      "   macro avg       0.80      0.50      0.38       983\n",
      "weighted avg       0.76      0.61      0.46       983\n",
      "\n"
     ]
    }
   ],
   "source": [
    "print(classification_report(y_test,pred))"
   ]
  },
  {
   "cell_type": "code",
   "execution_count": 113,
   "id": "a5ec1962",
   "metadata": {},
   "outputs": [
    {
     "name": "stdout",
     "output_type": "stream",
     "text": [
      "              precision    recall  f1-score   support\n",
      "\n",
      "           0       0.61      1.00      0.76      1403\n",
      "           1       1.00      0.00      0.00       890\n",
      "\n",
      "    accuracy                           0.61      2293\n",
      "   macro avg       0.81      0.50      0.38      2293\n",
      "weighted avg       0.76      0.61      0.47      2293\n",
      "\n"
     ]
    }
   ],
   "source": [
    "print(classification_report(y_train,pred_train))"
   ]
  },
  {
   "cell_type": "code",
   "execution_count": 114,
   "id": "61fac995",
   "metadata": {},
   "outputs": [
    {
     "data": {
      "image/png": "[encoded data removed]",
      "text/plain": [
       "<Figure size 432x288 with 1 Axes>"
      ]
     },
     "metadata": {
      "needs_background": "light"
     },
     "output_type": "display_data"
    },
    {
     "data": {
      "image/png": "[encoded data removed]",
      "text/plain": [
       "<Figure size 432x288 with 1 Axes>"
      ]
     },
     "metadata": {
      "needs_background": "light"
     },
     "output_type": "display_data"
    }
   ],
   "source": [
    "plt.rcParams[\"figure.figsize\"]=[6,4]\n",
    "\n",
    "plt.plot(hist.history[\"accuracy\"],label=\"train acc\")\n",
    "plt.plot(hist.history[\"val_accuracy\"],label=\"test acc\")\n",
    "plt.legend()\n",
    "plt.show()\n",
    "\n",
    "plt.plot(hist.history[\"loss\"],label=\"train loss\")\n",
    "plt.plot(hist.history[\"val_loss\"],label=\"test loss\")\n",
    "plt.legend()\n",
    "plt.show()"
   ]
  },
  {
   "cell_type": "code",
   "execution_count": 77,
   "id": "80d4ce8f",
   "metadata": {},
   "outputs": [],
   "source": [
    "# The ANN model is providing a 61% accuracy on both train and test without overfitting.\n",
    "# 60% accuracy is not a great accuracy.\n",
    "# Let us compare it with a Ml algorithm RandomForestClassifier"
   ]
  },
  {
   "cell_type": "code",
   "execution_count": 78,
   "id": "faef720b",
   "metadata": {},
   "outputs": [],
   "source": [
    "from sklearn.ensemble import RandomForestClassifier"
   ]
  },
  {
   "cell_type": "code",
   "execution_count": 79,
   "id": "ea90fc4e",
   "metadata": {},
   "outputs": [],
   "source": [
    "X=df.drop(\"Potability\",axis=1)\n",
    "y=df[\"Potability\"]\n",
    "X_train,X_test,y_train,y_test=train_test_split(X,y,test_size=0.3,random_state=3)"
   ]
  },
  {
   "cell_type": "code",
   "execution_count": 80,
   "id": "d4c3cd65",
   "metadata": {},
   "outputs": [],
   "source": [
    "rf=RandomForestClassifier()\n",
    "rf.fit(X_train,y_train)\n",
    "pred_rf_test=rf.predict(X_test).round()"
   ]
  },
  {
   "cell_type": "code",
   "execution_count": 81,
   "id": "1ed9648f",
   "metadata": {},
   "outputs": [
    {
     "name": "stdout",
     "output_type": "stream",
     "text": [
      "              precision    recall  f1-score   support\n",
      "\n",
      "           0       0.66      0.84      0.74       595\n",
      "           1       0.57      0.32      0.41       388\n",
      "\n",
      "    accuracy                           0.64       983\n",
      "   macro avg       0.61      0.58      0.58       983\n",
      "weighted avg       0.62      0.64      0.61       983\n",
      "\n"
     ]
    }
   ],
   "source": [
    "print(classification_report(y_test,pred_rf_test))"
   ]
  },
  {
   "cell_type": "markdown",
   "id": "5e205850",
   "metadata": {},
   "source": [
    "# Hyper parameter Tuning"
   ]
  },
  {
   "cell_type": "code",
   "execution_count": 83,
   "id": "abd0fc75",
   "metadata": {},
   "outputs": [],
   "source": [
    "from sklearn.model_selection import RandomizedSearchCV"
   ]
  },
  {
   "cell_type": "code",
   "execution_count": 87,
   "id": "d61c1dba",
   "metadata": {},
   "outputs": [
    {
     "data": {
      "text/plain": [
       "RandomizedSearchCV(cv=5, estimator=RandomForestClassifier(), n_iter=20,\n",
       "                   param_distributions={'max_depth': [1, 2, 3, 4, 5, 6, 7, 8, 9,\n",
       "                                                      10, 11, 12, 13, 14],\n",
       "                                        'max_features': ['auto', 'sqrt',\n",
       "                                                         'log2'],\n",
       "                                        'n_estimators': [10, 50, 100, 200]})"
      ]
     },
     "execution_count": 87,
     "metadata": {},
     "output_type": "execute_result"
    }
   ],
   "source": [
    "param_distributions={'n_estimators':[10,50,100,200],\n",
    "            'max_features':['auto','sqrt','log2'],\n",
    "            'max_depth':list(range(1,15))}\n",
    "rs = RandomizedSearchCV(RandomForestClassifier(),param_distributions,cv=5,n_iter=20)\n",
    "rs.fit(X_train,y_train)"
   ]
  },
  {
   "cell_type": "code",
   "execution_count": 88,
   "id": "3589d797",
   "metadata": {},
   "outputs": [
    {
     "data": {
      "text/plain": [
       "{'n_estimators': 200, 'max_features': 'auto', 'max_depth': 12}"
      ]
     },
     "execution_count": 88,
     "metadata": {},
     "output_type": "execute_result"
    }
   ],
   "source": [
    "rs.best_params_"
   ]
  },
  {
   "cell_type": "code",
   "execution_count": 90,
   "id": "4bfb71ec",
   "metadata": {},
   "outputs": [],
   "source": [
    "rf_tuned=RandomForestClassifier(**rs.best_params_)\n",
    "rf_tuned.fit(X_train,y_train)\n",
    "pred_rf_test_tuned=rf_tuned.predict(X_test).round()"
   ]
  },
  {
   "cell_type": "code",
   "execution_count": 92,
   "id": "2441458d",
   "metadata": {},
   "outputs": [
    {
     "name": "stdout",
     "output_type": "stream",
     "text": [
      "              precision    recall  f1-score   support\n",
      "\n",
      "           0       0.65      0.90      0.76       595\n",
      "           1       0.64      0.27      0.38       388\n",
      "\n",
      "    accuracy                           0.65       983\n",
      "   macro avg       0.65      0.58      0.57       983\n",
      "weighted avg       0.65      0.65      0.61       983\n",
      "\n"
     ]
    }
   ],
   "source": [
    "print(classification_report(y_test,pred_rf_test_tuned))"
   ]
  },
  {
   "cell_type": "markdown",
   "id": "22a119d9",
   "metadata": {},
   "source": [
    "# ANN Model with outliers removed."
   ]
  },
  {
   "cell_type": "code",
   "execution_count": 120,
   "id": "c45345c5",
   "metadata": {},
   "outputs": [
    {
     "data": {
      "text/plain": [
       "(2666, 10)"
      ]
     },
     "execution_count": 120,
     "metadata": {},
     "output_type": "execute_result"
    }
   ],
   "source": [
    "q1=df.quantile(0.25)\n",
    "q3=df.quantile(0.75)\n",
    "iqr=q3-q1\n",
    "df_wo=df[~((df<(q1-1.5*iqr))|(df>(q3+1.5*iqr))).any(axis=1)]\n",
    "df_wo.shape"
   ]
  },
  {
   "cell_type": "code",
   "execution_count": 124,
   "id": "c83337dd",
   "metadata": {},
   "outputs": [
    {
     "data": {
      "image/png": "[encoded data removed]",
      "text/plain": [
       "<Figure size 1080x720 with 1 Axes>"
      ]
     },
     "metadata": {
      "needs_background": "light"
     },
     "output_type": "display_data"
    }
   ],
   "source": [
    "plt.rcParams[\"figure.figsize\"]=[15,10]\n",
    "df_wo.boxplot()\n",
    "plt.show()"
   ]
  },
  {
   "cell_type": "code",
   "execution_count": 125,
   "id": "7b130dab",
   "metadata": {},
   "outputs": [
    {
     "data": {
      "text/plain": [
       "0    1671\n",
       "1     995\n",
       "Name: Potability, dtype: int64"
      ]
     },
     "execution_count": 125,
     "metadata": {},
     "output_type": "execute_result"
    }
   ],
   "source": [
    "df_wo.Potability.value_counts()"
   ]
  },
  {
   "cell_type": "code",
   "execution_count": 126,
   "id": "9a14abb5",
   "metadata": {},
   "outputs": [],
   "source": [
    "X=df_wo.drop(\"Potability\",axis=1)\n",
    "y=df_wo[\"Potability\"]"
   ]
  },
  {
   "cell_type": "code",
   "execution_count": 127,
   "id": "dd3c16bb",
   "metadata": {},
   "outputs": [
    {
     "data": {
      "text/html": [
       "<div>\n",
       "<style scoped>\n",
       "    .dataframe tbody tr th:only-of-type {\n",
       "        vertical-align: middle;\n",
       "    }\n",
       "\n",
       "    .dataframe tbody tr th {\n",
       "        vertical-align: top;\n",
       "    }\n",
       "\n",
       "    .dataframe thead th {\n",
       "        text-align: right;\n",
       "    }\n",
       "</style>\n",
       "<table border=\"1\" class=\"dataframe\">\n",
       "  <thead>\n",
       "    <tr style=\"text-align: right;\">\n",
       "      <th></th>\n",
       "      <th>ph</th>\n",
       "      <th>Hardness</th>\n",
       "      <th>Solids</th>\n",
       "      <th>Chloramines</th>\n",
       "      <th>Sulfate</th>\n",
       "      <th>Conductivity</th>\n",
       "      <th>Organic_carbon</th>\n",
       "      <th>Trihalomethanes</th>\n",
       "      <th>Turbidity</th>\n",
       "    </tr>\n",
       "  </thead>\n",
       "  <tbody>\n",
       "    <tr>\n",
       "      <th>0</th>\n",
       "      <td>0.005967</td>\n",
       "      <td>0.276380</td>\n",
       "      <td>-0.087788</td>\n",
       "      <td>0.133760</td>\n",
       "      <td>1.311504</td>\n",
       "      <td>1.731801</td>\n",
       "      <td>-1.220488</td>\n",
       "      <td>1.379762</td>\n",
       "      <td>-1.312414</td>\n",
       "    </tr>\n",
       "    <tr>\n",
       "      <th>1</th>\n",
       "      <td>0.843882</td>\n",
       "      <td>0.958501</td>\n",
       "      <td>-0.199087</td>\n",
       "      <td>1.531834</td>\n",
       "      <td>0.000565</td>\n",
       "      <td>-0.090093</td>\n",
       "      <td>0.796898</td>\n",
       "      <td>-0.001226</td>\n",
       "      <td>-1.190445</td>\n",
       "    </tr>\n",
       "    <tr>\n",
       "      <th>2</th>\n",
       "      <td>1.022965</td>\n",
       "      <td>0.610743</td>\n",
       "      <td>0.067098</td>\n",
       "      <td>0.670947</td>\n",
       "      <td>0.872634</td>\n",
       "      <td>-0.782072</td>\n",
       "      <td>1.284355</td>\n",
       "      <td>2.276037</td>\n",
       "      <td>0.876799</td>\n",
       "    </tr>\n",
       "    <tr>\n",
       "      <th>3</th>\n",
       "      <td>1.661037</td>\n",
       "      <td>-0.562404</td>\n",
       "      <td>-0.442764</td>\n",
       "      <td>-0.399530</td>\n",
       "      <td>-0.891492</td>\n",
       "      <td>-0.342620</td>\n",
       "      <td>-0.854093</td>\n",
       "      <td>-2.312089</td>\n",
       "      <td>0.149055</td>\n",
       "    </tr>\n",
       "    <tr>\n",
       "      <th>4</th>\n",
       "      <td>-1.225574</td>\n",
       "      <td>-0.308120</td>\n",
       "      <td>0.916600</td>\n",
       "      <td>0.306890</td>\n",
       "      <td>-0.267256</td>\n",
       "      <td>-1.817403</td>\n",
       "      <td>-1.836085</td>\n",
       "      <td>-0.773406</td>\n",
       "      <td>-1.842654</td>\n",
       "    </tr>\n",
       "  </tbody>\n",
       "</table>\n",
       "</div>"
      ],
      "text/plain": [
       "         ph  Hardness    Solids  Chloramines   Sulfate  Conductivity  \\\n",
       "0  0.005967  0.276380 -0.087788     0.133760  1.311504      1.731801   \n",
       "1  0.843882  0.958501 -0.199087     1.531834  0.000565     -0.090093   \n",
       "2  1.022965  0.610743  0.067098     0.670947  0.872634     -0.782072   \n",
       "3  1.661037 -0.562404 -0.442764    -0.399530 -0.891492     -0.342620   \n",
       "4 -1.225574 -0.308120  0.916600     0.306890 -0.267256     -1.817403   \n",
       "\n",
       "   Organic_carbon  Trihalomethanes  Turbidity  \n",
       "0       -1.220488         1.379762  -1.312414  \n",
       "1        0.796898        -0.001226  -1.190445  \n",
       "2        1.284355         2.276037   0.876799  \n",
       "3       -0.854093        -2.312089   0.149055  \n",
       "4       -1.836085        -0.773406  -1.842654  "
      ]
     },
     "execution_count": 127,
     "metadata": {},
     "output_type": "execute_result"
    }
   ],
   "source": [
    "# Feature Scaling\n",
    "\n",
    "sc=StandardScaler()\n",
    "inp_sc=sc.fit_transform(X)\n",
    "inp_sc=pd.DataFrame(inp_sc,columns=X.columns)\n",
    "inp_sc.head()"
   ]
  },
  {
   "cell_type": "code",
   "execution_count": 128,
   "id": "6329d2bf",
   "metadata": {},
   "outputs": [],
   "source": [
    "X_train,X_test,y_train,y_test=train_test_split(X,y,test_size=0.3,random_state=3)"
   ]
  },
  {
   "cell_type": "code",
   "execution_count": 129,
   "id": "22873435",
   "metadata": {},
   "outputs": [
    {
     "name": "stdout",
     "output_type": "stream",
     "text": [
      "Epoch 1/100\n",
      "59/59 [==============================] - 0s 3ms/step - loss: 45.4521 - accuracy: 0.5364 - val_loss: 27.2870 - val_accuracy: 0.3613\n",
      "Epoch 2/100\n",
      "59/59 [==============================] - 0s 1ms/step - loss: 35.9683 - accuracy: 0.5434 - val_loss: 21.1583 - val_accuracy: 0.3613\n",
      "Epoch 3/100\n",
      "59/59 [==============================] - 0s 1ms/step - loss: 30.8014 - accuracy: 0.5434 - val_loss: 79.2229 - val_accuracy: 0.6375\n",
      "Epoch 4/100\n",
      "59/59 [==============================] - 0s 1ms/step - loss: 15.4009 - accuracy: 0.5327 - val_loss: 1.2824 - val_accuracy: 0.3688\n",
      "Epoch 5/100\n",
      "59/59 [==============================] - 0s 1ms/step - loss: 8.4089 - accuracy: 0.5161 - val_loss: 12.2474 - val_accuracy: 0.6375\n",
      "Epoch 6/100\n",
      "59/59 [==============================] - 0s 1ms/step - loss: 13.4919 - accuracy: 0.5214 - val_loss: 4.8587 - val_accuracy: 0.3613\n",
      "Epoch 7/100\n",
      "59/59 [==============================] - 0s 1ms/step - loss: 12.5788 - accuracy: 0.5322 - val_loss: 51.1220 - val_accuracy: 0.3613\n",
      "Epoch 8/100\n",
      "59/59 [==============================] - 0s 1ms/step - loss: 10.5246 - accuracy: 0.5220 - val_loss: 5.4734 - val_accuracy: 0.6363\n",
      "Epoch 9/100\n",
      "59/59 [==============================] - 0s 1ms/step - loss: 3.7669 - accuracy: 0.5284 - val_loss: 1.5655 - val_accuracy: 0.3613\n",
      "Epoch 10/100\n",
      "59/59 [==============================] - 0s 1ms/step - loss: 1.5832 - accuracy: 0.5268 - val_loss: 0.7325 - val_accuracy: 0.4963\n",
      "Epoch 11/100\n",
      "59/59 [==============================] - 0s 1ms/step - loss: 3.2420 - accuracy: 0.5241 - val_loss: 3.5633 - val_accuracy: 0.6388\n",
      "Epoch 12/100\n",
      "59/59 [==============================] - 0s 2ms/step - loss: 2.1158 - accuracy: 0.5182 - val_loss: 1.5115 - val_accuracy: 0.6388\n",
      "Epoch 13/100\n",
      "59/59 [==============================] - 0s 1ms/step - loss: 2.2393 - accuracy: 0.5171 - val_loss: 1.4416 - val_accuracy: 0.6388\n",
      "Epoch 14/100\n",
      "59/59 [==============================] - 0s 1ms/step - loss: 2.6745 - accuracy: 0.5305 - val_loss: 1.9208 - val_accuracy: 0.3613\n",
      "Epoch 15/100\n",
      "59/59 [==============================] - 0s 1ms/step - loss: 1.6987 - accuracy: 0.5102 - val_loss: 1.2765 - val_accuracy: 0.3600\n",
      "Epoch 16/100\n",
      "59/59 [==============================] - 0s 1ms/step - loss: 1.3729 - accuracy: 0.5182 - val_loss: 1.4783 - val_accuracy: 0.6363\n",
      "Epoch 17/100\n",
      "59/59 [==============================] - 0s 1ms/step - loss: 0.9972 - accuracy: 0.5472 - val_loss: 1.5569 - val_accuracy: 0.6375\n",
      "Epoch 18/100\n",
      "59/59 [==============================] - 0s 1ms/step - loss: 1.5270 - accuracy: 0.5193 - val_loss: 0.8839 - val_accuracy: 0.3587\n",
      "Epoch 19/100\n",
      "59/59 [==============================] - 0s 1ms/step - loss: 0.8971 - accuracy: 0.5418 - val_loss: 0.7462 - val_accuracy: 0.4487\n",
      "Epoch 20/100\n",
      "59/59 [==============================] - 0s 1ms/step - loss: 0.8704 - accuracy: 0.5343 - val_loss: 0.7674 - val_accuracy: 0.3900\n",
      "Epoch 21/100\n",
      "59/59 [==============================] - 0s 1ms/step - loss: 0.8956 - accuracy: 0.5536 - val_loss: 1.9768 - val_accuracy: 0.3613\n",
      "Epoch 22/100\n",
      "59/59 [==============================] - 0s 1ms/step - loss: 0.8829 - accuracy: 0.5402 - val_loss: 0.7982 - val_accuracy: 0.3887\n",
      "Epoch 23/100\n",
      "59/59 [==============================] - 0s 1ms/step - loss: 0.7913 - accuracy: 0.5804 - val_loss: 0.7059 - val_accuracy: 0.5325\n",
      "Epoch 24/100\n",
      "59/59 [==============================] - 0s 1ms/step - loss: 0.8476 - accuracy: 0.5584 - val_loss: 1.4287 - val_accuracy: 0.3625\n",
      "Epoch 25/100\n",
      "59/59 [==============================] - 0s 1ms/step - loss: 0.8492 - accuracy: 0.5514 - val_loss: 0.7212 - val_accuracy: 0.6375\n",
      "Epoch 26/100\n",
      "59/59 [==============================] - 0s 1ms/step - loss: 0.7917 - accuracy: 0.5648 - val_loss: 1.3635 - val_accuracy: 0.3625\n",
      "Epoch 27/100\n",
      "59/59 [==============================] - 0s 1ms/step - loss: 0.9133 - accuracy: 0.5445 - val_loss: 0.7944 - val_accuracy: 0.6375\n",
      "Epoch 28/100\n",
      "59/59 [==============================] - 0s 1ms/step - loss: 0.8691 - accuracy: 0.5386 - val_loss: 0.9006 - val_accuracy: 0.3650\n",
      "Epoch 29/100\n",
      "59/59 [==============================] - 0s 1ms/step - loss: 0.7513 - accuracy: 0.5632 - val_loss: 0.9585 - val_accuracy: 0.6375\n",
      "Epoch 30/100\n",
      "59/59 [==============================] - 0s 1ms/step - loss: 0.9219 - accuracy: 0.5589 - val_loss: 0.6791 - val_accuracy: 0.6375\n",
      "Epoch 31/100\n",
      "59/59 [==============================] - 0s 1ms/step - loss: 0.7696 - accuracy: 0.5568 - val_loss: 0.7539 - val_accuracy: 0.3825\n",
      "Epoch 32/100\n",
      "59/59 [==============================] - 0s 1ms/step - loss: 0.6991 - accuracy: 0.5890 - val_loss: 0.7722 - val_accuracy: 0.4050\n",
      "Epoch 33/100\n",
      "59/59 [==============================] - 0s 1ms/step - loss: 0.7684 - accuracy: 0.5638 - val_loss: 0.8091 - val_accuracy: 0.3825\n",
      "Epoch 34/100\n",
      "59/59 [==============================] - 0s 1ms/step - loss: 0.8218 - accuracy: 0.5397 - val_loss: 0.7363 - val_accuracy: 0.6375\n",
      "Epoch 35/100\n",
      "59/59 [==============================] - 0s 1ms/step - loss: 0.7275 - accuracy: 0.5761 - val_loss: 0.7047 - val_accuracy: 0.6375\n",
      "Epoch 36/100\n",
      "59/59 [==============================] - 0s 1ms/step - loss: 0.7769 - accuracy: 0.5756 - val_loss: 0.6819 - val_accuracy: 0.6375\n",
      "Epoch 37/100\n",
      "59/59 [==============================] - 0s 1ms/step - loss: 5.0214 - accuracy: 0.5220 - val_loss: 1.0277 - val_accuracy: 0.3625\n",
      "Epoch 38/100\n",
      "59/59 [==============================] - 0s 1ms/step - loss: 2.6872 - accuracy: 0.5188 - val_loss: 2.3828 - val_accuracy: 0.6375\n",
      "Epoch 39/100\n",
      "59/59 [==============================] - 0s 1ms/step - loss: 1.2323 - accuracy: 0.5397 - val_loss: 0.6834 - val_accuracy: 0.6375\n",
      "Epoch 40/100\n",
      "59/59 [==============================] - 0s 1ms/step - loss: 1.8465 - accuracy: 0.5359 - val_loss: 2.3163 - val_accuracy: 0.3613\n",
      "Epoch 41/100\n",
      "59/59 [==============================] - 0s 1ms/step - loss: 1.1197 - accuracy: 0.5225 - val_loss: 0.8780 - val_accuracy: 0.6375\n",
      "Epoch 42/100\n",
      "59/59 [==============================] - 0s 1ms/step - loss: 0.7452 - accuracy: 0.5697 - val_loss: 0.8041 - val_accuracy: 0.3775\n",
      "Epoch 43/100\n",
      "59/59 [==============================] - 0s 1ms/step - loss: 0.7764 - accuracy: 0.5541 - val_loss: 0.8045 - val_accuracy: 0.3913\n",
      "Epoch 44/100\n",
      "59/59 [==============================] - 0s 1ms/step - loss: 0.8771 - accuracy: 0.5429 - val_loss: 1.4555 - val_accuracy: 0.6375\n",
      "Epoch 45/100\n",
      "59/59 [==============================] - 0s 1ms/step - loss: 0.8813 - accuracy: 0.5520 - val_loss: 0.6777 - val_accuracy: 0.6375\n",
      "Epoch 46/100\n",
      "59/59 [==============================] - 0s 1ms/step - loss: 0.6798 - accuracy: 0.5975 - val_loss: 0.6809 - val_accuracy: 0.6375\n",
      "Epoch 47/100\n",
      "59/59 [==============================] - 0s 1ms/step - loss: 0.7408 - accuracy: 0.5589 - val_loss: 0.9116 - val_accuracy: 0.3638\n",
      "Epoch 48/100\n",
      "59/59 [==============================] - 0s 1ms/step - loss: 0.7033 - accuracy: 0.5815 - val_loss: 0.7417 - val_accuracy: 0.6375\n",
      "Epoch 49/100\n",
      "59/59 [==============================] - 0s 1ms/step - loss: 0.6916 - accuracy: 0.5906 - val_loss: 0.6766 - val_accuracy: 0.6375\n",
      "Epoch 50/100\n",
      "59/59 [==============================] - 0s 2ms/step - loss: 0.6867 - accuracy: 0.5965 - val_loss: 0.7285 - val_accuracy: 0.4512\n",
      "Epoch 51/100\n",
      "59/59 [==============================] - 0s 1ms/step - loss: 0.7066 - accuracy: 0.5713 - val_loss: 0.9613 - val_accuracy: 0.3875\n",
      "Epoch 52/100\n",
      "59/59 [==============================] - 0s 1ms/step - loss: 0.7367 - accuracy: 0.5563 - val_loss: 0.7811 - val_accuracy: 0.3625\n",
      "Epoch 53/100\n",
      "59/59 [==============================] - 0s 1ms/step - loss: 0.7630 - accuracy: 0.5547 - val_loss: 0.7514 - val_accuracy: 0.6388\n",
      "Epoch 54/100\n",
      "59/59 [==============================] - 0s 1ms/step - loss: 0.6812 - accuracy: 0.6077 - val_loss: 0.7040 - val_accuracy: 0.6388\n",
      "Epoch 55/100\n",
      "59/59 [==============================] - 0s 1ms/step - loss: 0.6861 - accuracy: 0.5916 - val_loss: 0.6876 - val_accuracy: 0.6388\n",
      "Epoch 56/100\n",
      "59/59 [==============================] - 0s 1ms/step - loss: 0.6847 - accuracy: 0.6034 - val_loss: 0.6924 - val_accuracy: 0.6250\n",
      "Epoch 57/100\n",
      "59/59 [==============================] - 0s 1ms/step - loss: 0.6835 - accuracy: 0.5954 - val_loss: 0.7079 - val_accuracy: 0.5550\n",
      "Epoch 58/100\n",
      "59/59 [==============================] - 0s 1ms/step - loss: 0.6925 - accuracy: 0.5900 - val_loss: 0.8924 - val_accuracy: 0.6388\n"
     ]
    },
    {
     "name": "stdout",
     "output_type": "stream",
     "text": [
      "Epoch 59/100\n",
      "59/59 [==============================] - 0s 997us/step - loss: 0.7169 - accuracy: 0.5697 - val_loss: 0.7630 - val_accuracy: 0.6388\n",
      "Epoch 60/100\n",
      "59/59 [==============================] - 0s 997us/step - loss: 0.8440 - accuracy: 0.5600 - val_loss: 0.7536 - val_accuracy: 0.3963\n",
      "Epoch 61/100\n",
      "59/59 [==============================] - 0s 1ms/step - loss: 0.8871 - accuracy: 0.5407 - val_loss: 0.7663 - val_accuracy: 0.3988\n",
      "Epoch 62/100\n",
      "59/59 [==============================] - 0s 1ms/step - loss: 0.7238 - accuracy: 0.5595 - val_loss: 0.8433 - val_accuracy: 0.3762\n",
      "Epoch 63/100\n",
      "59/59 [==============================] - 0s 1ms/step - loss: 0.7175 - accuracy: 0.5868 - val_loss: 0.7058 - val_accuracy: 0.6000\n",
      "Epoch 64/100\n",
      "59/59 [==============================] - 0s 1ms/step - loss: 2.3946 - accuracy: 0.5241 - val_loss: 3.2515 - val_accuracy: 0.3600\n",
      "Epoch 65/100\n",
      "59/59 [==============================] - 0s 1ms/step - loss: 3.4128 - accuracy: 0.5182 - val_loss: 1.6809 - val_accuracy: 0.3613\n",
      "Epoch 66/100\n",
      "59/59 [==============================] - 0s 1ms/step - loss: 4.4181 - accuracy: 0.5348 - val_loss: 6.1648 - val_accuracy: 0.6375\n",
      "Epoch 67/100\n",
      "59/59 [==============================] - 0s 1ms/step - loss: 2.1557 - accuracy: 0.5520 - val_loss: 1.4666 - val_accuracy: 0.6375\n",
      "Epoch 68/100\n",
      "59/59 [==============================] - 0s 1ms/step - loss: 1.9046 - accuracy: 0.5263 - val_loss: 1.2413 - val_accuracy: 0.3613\n",
      "Epoch 69/100\n",
      "59/59 [==============================] - 0s 1ms/step - loss: 0.8791 - accuracy: 0.5557 - val_loss: 0.7509 - val_accuracy: 0.6388\n",
      "Epoch 70/100\n",
      "59/59 [==============================] - 0s 1ms/step - loss: 0.7610 - accuracy: 0.5729 - val_loss: 0.6920 - val_accuracy: 0.6388\n",
      "Epoch 71/100\n",
      "59/59 [==============================] - 0s 1ms/step - loss: 0.7045 - accuracy: 0.5798 - val_loss: 0.6907 - val_accuracy: 0.6388\n",
      "Epoch 72/100\n",
      "59/59 [==============================] - 0s 1ms/step - loss: 0.6899 - accuracy: 0.5836 - val_loss: 0.7298 - val_accuracy: 0.6388\n",
      "Epoch 73/100\n",
      "59/59 [==============================] - 0s 1ms/step - loss: 0.6805 - accuracy: 0.5970 - val_loss: 0.6952 - val_accuracy: 0.6388\n",
      "Epoch 74/100\n",
      "59/59 [==============================] - 0s 1ms/step - loss: 0.6778 - accuracy: 0.6024 - val_loss: 0.6937 - val_accuracy: 0.6388\n",
      "Epoch 75/100\n",
      "59/59 [==============================] - 0s 995us/step - loss: 0.6966 - accuracy: 0.5986 - val_loss: 0.6893 - val_accuracy: 0.6388\n",
      "Epoch 76/100\n",
      "59/59 [==============================] - 0s 1ms/step - loss: 0.6771 - accuracy: 0.6056 - val_loss: 0.6923 - val_accuracy: 0.6375\n",
      "Epoch 77/100\n",
      "59/59 [==============================] - 0s 1ms/step - loss: 0.6719 - accuracy: 0.6099 - val_loss: 0.7017 - val_accuracy: 0.6388\n",
      "Epoch 78/100\n",
      "59/59 [==============================] - 0s 1ms/step - loss: 0.6752 - accuracy: 0.6109 - val_loss: 0.6983 - val_accuracy: 0.6388\n",
      "Epoch 79/100\n",
      "59/59 [==============================] - 0s 1ms/step - loss: 0.6740 - accuracy: 0.5922 - val_loss: 0.6922 - val_accuracy: 0.6388\n",
      "Epoch 80/100\n",
      "59/59 [==============================] - 0s 1ms/step - loss: 0.6752 - accuracy: 0.6045 - val_loss: 0.6912 - val_accuracy: 0.6375\n",
      "Epoch 81/100\n",
      "59/59 [==============================] - 0s 1ms/step - loss: 0.8721 - accuracy: 0.5413 - val_loss: 1.1405 - val_accuracy: 0.6388\n",
      "Epoch 82/100\n",
      "59/59 [==============================] - 0s 1ms/step - loss: 0.7053 - accuracy: 0.5922 - val_loss: 0.6961 - val_accuracy: 0.6388\n",
      "Epoch 83/100\n",
      "59/59 [==============================] - 0s 1ms/step - loss: 0.7001 - accuracy: 0.5831 - val_loss: 0.8141 - val_accuracy: 0.6388\n",
      "Epoch 84/100\n",
      "59/59 [==============================] - 0s 1ms/step - loss: 0.7269 - accuracy: 0.5718 - val_loss: 1.2723 - val_accuracy: 0.6388\n",
      "Epoch 85/100\n",
      "59/59 [==============================] - 0s 997us/step - loss: 0.8290 - accuracy: 0.5734 - val_loss: 0.7301 - val_accuracy: 0.6388\n",
      "Epoch 86/100\n",
      "59/59 [==============================] - 0s 1ms/step - loss: 0.6835 - accuracy: 0.5981 - val_loss: 0.6976 - val_accuracy: 0.6388\n",
      "Epoch 87/100\n",
      "59/59 [==============================] - 0s 1ms/step - loss: 0.6718 - accuracy: 0.6077 - val_loss: 0.8871 - val_accuracy: 0.3638\n",
      "Epoch 88/100\n",
      "59/59 [==============================] - 0s 1ms/step - loss: 0.7821 - accuracy: 0.5616 - val_loss: 0.7724 - val_accuracy: 0.6388\n",
      "Epoch 89/100\n",
      "59/59 [==============================] - 0s 997us/step - loss: 0.7082 - accuracy: 0.5884 - val_loss: 0.7131 - val_accuracy: 0.6375\n",
      "Epoch 90/100\n",
      "59/59 [==============================] - 0s 1ms/step - loss: 0.6820 - accuracy: 0.6029 - val_loss: 0.7338 - val_accuracy: 0.5337\n",
      "Epoch 91/100\n",
      "59/59 [==============================] - 0s 1ms/step - loss: 0.6705 - accuracy: 0.6136 - val_loss: 0.7151 - val_accuracy: 0.6375\n",
      "Epoch 92/100\n",
      "59/59 [==============================] - 0s 1ms/step - loss: 0.6677 - accuracy: 0.6238 - val_loss: 0.7020 - val_accuracy: 0.6388\n",
      "Epoch 93/100\n",
      "59/59 [==============================] - 0s 1ms/step - loss: 0.6664 - accuracy: 0.6109 - val_loss: 0.7035 - val_accuracy: 0.6388\n",
      "Epoch 94/100\n",
      "59/59 [==============================] - 0s 1ms/step - loss: 0.7046 - accuracy: 0.6002 - val_loss: 0.7096 - val_accuracy: 0.6375\n",
      "Epoch 95/100\n",
      "59/59 [==============================] - 0s 1ms/step - loss: 0.6666 - accuracy: 0.6227 - val_loss: 0.7054 - val_accuracy: 0.6375\n",
      "Epoch 96/100\n",
      "59/59 [==============================] - 0s 1ms/step - loss: 0.6676 - accuracy: 0.6233 - val_loss: 0.6938 - val_accuracy: 0.6388\n",
      "Epoch 97/100\n",
      "59/59 [==============================] - 0s 1ms/step - loss: 0.6607 - accuracy: 0.6233 - val_loss: 0.6925 - val_accuracy: 0.6388\n",
      "Epoch 98/100\n",
      "59/59 [==============================] - 0s 1ms/step - loss: 0.6606 - accuracy: 0.6238 - val_loss: 0.6923 - val_accuracy: 0.6388\n",
      "Epoch 99/100\n",
      "59/59 [==============================] - 0s 1ms/step - loss: 0.6607 - accuracy: 0.6238 - val_loss: 0.6931 - val_accuracy: 0.6388\n",
      "Epoch 100/100\n",
      "59/59 [==============================] - 0s 1ms/step - loss: 0.6608 - accuracy: 0.6238 - val_loss: 0.6932 - val_accuracy: 0.6388\n"
     ]
    }
   ],
   "source": [
    "# Defining ANN\n",
    "\n",
    "model=Sequential()\n",
    "model.add(Dense(units=256,activation=\"relu\",input_dim=9))\n",
    "model.add(Dense(units=128,activation=\"relu\"))\n",
    "model.add(Dense(units=64,activation=\"relu\"))\n",
    "model.add(Dense(units=32,activation=\"relu\"))\n",
    "model.add(Dense(units=1,activation=\"sigmoid\"))\n",
    "\n",
    "model.compile(optimizer=\"adam\",loss=\"binary_crossentropy\",metrics=[\"accuracy\"])\n",
    "\n",
    "# Fit the model\n",
    "\n",
    "hist=model.fit(X_train,y_train,batch_size=32,epochs=100,validation_data=(X_test,y_test))"
   ]
  },
  {
   "cell_type": "code",
   "execution_count": 130,
   "id": "2809bec0",
   "metadata": {},
   "outputs": [
    {
     "data": {
      "image/png": "[encoded data removed]",
      "text/plain": [
       "<Figure size 432x288 with 1 Axes>"
      ]
     },
     "metadata": {
      "needs_background": "light"
     },
     "output_type": "display_data"
    },
    {
     "data": {
      "image/png": "[encoded data removed]",
      "text/plain": [
       "<Figure size 432x288 with 1 Axes>"
      ]
     },
     "metadata": {
      "needs_background": "light"
     },
     "output_type": "display_data"
    }
   ],
   "source": [
    "plt.rcParams[\"figure.figsize\"]=[6,4]\n",
    "\n",
    "plt.plot(hist.history[\"accuracy\"],label=\"train acc\")\n",
    "plt.plot(hist.history[\"val_accuracy\"],label=\"test acc\")\n",
    "plt.legend()\n",
    "plt.show()\n",
    "\n",
    "plt.plot(hist.history[\"loss\"],label=\"train loss\")\n",
    "plt.plot(hist.history[\"val_loss\"],label=\"test loss\")\n",
    "plt.legend()\n",
    "plt.show()"
   ]
  },
  {
   "cell_type": "code",
   "execution_count": 132,
   "id": "8cdd4e09",
   "metadata": {},
   "outputs": [],
   "source": [
    "pred=model.predict(X_test).round()"
   ]
  },
  {
   "cell_type": "code",
   "execution_count": 133,
   "id": "7c9c0400",
   "metadata": {},
   "outputs": [
    {
     "name": "stdout",
     "output_type": "stream",
     "text": [
      "              precision    recall  f1-score   support\n",
      "\n",
      "           0       0.64      1.00      0.78       511\n",
      "           1       0.50      0.00      0.01       289\n",
      "\n",
      "    accuracy                           0.64       800\n",
      "   macro avg       0.57      0.50      0.39       800\n",
      "weighted avg       0.59      0.64      0.50       800\n",
      "\n"
     ]
    }
   ],
   "source": [
    "print(classification_report(y_test,pred))"
   ]
  },
  {
   "cell_type": "markdown",
   "id": "65a00f6a",
   "metadata": {},
   "source": [
    "# Conclusion"
   ]
  },
  {
   "cell_type": "code",
   "execution_count": null,
   "id": "ab6ea634",
   "metadata": {},
   "outputs": [],
   "source": [
    "# The reason for low accuracy of ANN model can be because of the outlier that are present in the data.\n",
    "# We see that even for an Ml algorithm we are getting some where around 65% accuracy.\n",
    "# This shows that the ANN which is producing 60% accuracy is 5% behind the ML model.\n",
    "# With the removal of the outliers the accuracy of the ANN model increased to 64%.(not recommended)\n",
    "# Hence, from this case study we can say that for an structured tabular data ML algorithms perform bettern that ANN model."
   ]
  }
 ],
 "metadata": {
  "hide_input": false,
  "kernelspec": {
   "display_name": "Python 3",
   "language": "python",
   "name": "python3"
  },
  "language_info": {
   "codemirror_mode": {
    "name": "ipython",
    "version": 3
   },
   "file_extension": ".py",
   "mimetype": "text/x-python",
   "name": "python",
   "nbconvert_exporter": "python",
   "pygments_lexer": "ipython3",
   "version": "3.8.8"
  }
 },
 "nbformat": 4,
 "nbformat_minor": 5
}
